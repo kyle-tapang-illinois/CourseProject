{
 "cells": [
  {
   "cell_type": "markdown",
   "id": "fbe69a1b",
   "metadata": {},
   "source": [
    "<h1>William Kiger</h1> \n",
    "<p>CS 410 Text information Systems</p>\n",
    "<p>Fall 2022</p>\n",
    "<p>Group -- Bean</p>"
   ]
  },
  {
   "cell_type": "code",
   "execution_count": 1,
   "id": "4c92d37a",
   "metadata": {},
   "outputs": [],
   "source": [
    "# References: \n",
    "# https://curiousily.com/posts/sentiment-analysis-with-bert-and-hugging-face-using-pytorch-and-python/\n",
    "# https://bentrevett.com/\n",
    "# https://pytorch.org/tutorials/beginner/torchtext_translation.html?highlight=transformer\n",
    "# https://www.alldatascience.com/nlp/nlp-sentiment-analysis-with-pytorch/\n",
    "\n",
    "import torch\n",
    "import torch.nn as nn\n",
    "import torch.optim as optim\n",
    "from transformers import BertTokenizer, BertModel\n",
    "from torchtext import data, datasets\n",
    "import numpy as np\n",
    "import random\n",
    "import time\n",
    "import pandas as pd\n",
    "import matplotlib.pyplot as plt\n",
    "%matplotlib inline\n",
    "\n",
    "# ignore warnings\n",
    "import warnings\n",
    "warnings.filterwarnings(\"ignore\")"
   ]
  },
  {
   "cell_type": "code",
   "execution_count": 2,
   "id": "c123f2c5",
   "metadata": {},
   "outputs": [],
   "source": [
    "device = 'cuda' if torch.cuda.is_available() else 'cpu'"
   ]
  },
  {
   "cell_type": "code",
   "execution_count": 3,
   "id": "480b9a18",
   "metadata": {},
   "outputs": [],
   "source": [
    "tokenizer = BertTokenizer.from_pretrained('bert-base-uncased')\n",
    "init_token_id = tokenizer.cls_token_id\n",
    "eos_token_id  = tokenizer.sep_token_id\n",
    "pad_token_id  = tokenizer.pad_token_id\n",
    "unk_token_id  = tokenizer.unk_token_id"
   ]
  },
  {
   "cell_type": "code",
   "execution_count": 4,
   "id": "aab0d813",
   "metadata": {},
   "outputs": [],
   "source": [
    "max_size = tokenizer.max_model_input_sizes['bert-base-uncased']\n",
    "\n",
    "def trim_tokenize(text):\n",
    "    \n",
    "    tok = tokenizer.tokenize(text)\n",
    "    tok = tok[:max_size - 2]\n",
    "    \n",
    "    return tok"
   ]
  },
  {
   "cell_type": "code",
   "execution_count": 5,
   "id": "e35983e8",
   "metadata": {},
   "outputs": [],
   "source": [
    "#discovered the IMDB movie reviews is a big dataset with lots of text like in our case.  \n",
    "#this code is grabbing the data from pytorch https://pytorch.org/text/_modules/torchtext/datasets/imdb.html\n",
    "#also provided is the csv files for this dataset.  \n",
    "text = data.Field(\n",
    "    batch_first=True,\n",
    "    use_vocab=False,\n",
    "    tokenize=trim_tokenize,\n",
    "    preprocessing=tokenizer.convert_tokens_to_ids,\n",
    "    init_token=init_token_id,\n",
    "    pad_token=pad_token_id,\n",
    "    unk_token=unk_token_id\n",
    ")\n",
    "\n",
    "label = data.LabelField(dtype=torch.float)\n",
    "\n",
    "train_data, test_data  = datasets.IMDB.splits(text, label)\n",
    "train_data, valid_data = train_data.split(random_state=random.seed(1234))\n",
    "\n",
    "label.build_vocab(train_data)\n",
    "\n",
    "train_iter, valid_iter, test_iter = data.BucketIterator.splits(\n",
    "    (train_data, valid_data, test_data),\n",
    "    batch_size=16,\n",
    "    device=device)"
   ]
  },
  {
   "cell_type": "code",
   "execution_count": 6,
   "id": "51f38907",
   "metadata": {},
   "outputs": [
    {
     "name": "stderr",
     "output_type": "stream",
     "text": [
      "Some weights of the model checkpoint at bert-base-uncased were not used when initializing BertModel: ['cls.predictions.decoder.weight', 'cls.seq_relationship.bias', 'cls.predictions.transform.dense.bias', 'cls.predictions.transform.LayerNorm.weight', 'cls.predictions.bias', 'cls.predictions.transform.LayerNorm.bias', 'cls.predictions.transform.dense.weight', 'cls.seq_relationship.weight']\n",
      "- This IS expected if you are initializing BertModel from the checkpoint of a model trained on another task or with another architecture (e.g. initializing a BertForSequenceClassification model from a BertForPreTraining model).\n",
      "- This IS NOT expected if you are initializing BertModel from the checkpoint of a model that you expect to be exactly identical (initializing a BertForSequenceClassification model from a BertForSequenceClassification model).\n"
     ]
    }
   ],
   "source": [
    "bert_model = BertModel.from_pretrained('bert-base-uncased')"
   ]
  },
  {
   "cell_type": "code",
   "execution_count": 7,
   "id": "cd2a006b",
   "metadata": {},
   "outputs": [],
   "source": [
    "#this is the sentiment model with the idea taken from: https://bentrevett.com/\n",
    "#it uses the pretrained BERT model developed by Google and is considered cutting edge\n",
    "#in around 11 NLP areas (my paper discussed this topic).  This model contains a linear\n",
    "#layer for the text classification\n",
    "\n",
    "class BertSentimentModel(nn.Module):\n",
    "    \n",
    "    def __init__(self,bert,hidden_dim,output_dim,n_layers,bidirectional,dropout):\n",
    "        super(BertSentimentModel, self).__init__()\n",
    "    \n",
    "        self.bert = bert\n",
    "        embedding_dim = bert.config.to_dict()['hidden_size']\n",
    "        self.rnn = nn.GRU(\n",
    "          embedding_dim,\n",
    "          hidden_dim,\n",
    "          num_layers=n_layers,\n",
    "          bidirectional=bidirectional,\n",
    "          batch_first=True,\n",
    "          dropout=0 if n_layers < 2 else dropout\n",
    "        )\n",
    "        self.out = nn.Linear(hidden_dim * 2 if bidirectional else hidden_dim, output_dim)\n",
    "        self.dropout = nn.Dropout(dropout)\n",
    "      \n",
    "    def forward(self, text):\n",
    "        with torch.no_grad():\n",
    "            embedded = self.bert(text)[0]\n",
    "            \n",
    "        _, hidden = self.rnn(embedded)\n",
    "    \n",
    "        if self.rnn.bidirectional:\n",
    "            hidden = self.dropout(torch.cat((hidden[-2,:,:], hidden[-1,:,:]), dim = 1))\n",
    "        else:\n",
    "            hidden = self.dropout(hidden[-1,:,:])\n",
    "    \n",
    "        output = self.out(hidden)\n",
    "        \n",
    "        return output\n",
    "\n",
    "model = BertSentimentModel(bert_model, 256, 1, 2, True, 0.25)\n",
    "#bert,hidden_dim,output_dim,n_layers,bidirectional,dropout\n",
    "# print(model)"
   ]
  },
  {
   "cell_type": "code",
   "execution_count": 8,
   "id": "c91c273e",
   "metadata": {},
   "outputs": [],
   "source": [
    "def compute_accuracy(preds, label): \n",
    "    rp = torch.round(torch.sigmoid(preds))\n",
    "    correct = (rp == label).float()\n",
    "    accuracy = correct.sum() / len(correct)\n",
    "    \n",
    "    return accuracy"
   ]
  },
  {
   "cell_type": "code",
   "execution_count": 9,
   "id": "c65a60fd",
   "metadata": {},
   "outputs": [],
   "source": [
    "def train(model, iterator, optimizer, criterion):\n",
    "    \n",
    "    epoch_loss = 0\n",
    "    epoch_accuracy = 0\n",
    "    model.train()\n",
    "  \n",
    "    for batch in iterator:\n",
    "        optimizer.zero_grad()\n",
    "        predictions = model(batch.text).squeeze(1)\n",
    "        loss = criterion(predictions, batch.label)\n",
    "        accuracy = compute_accuracy(predictions, batch.label)\n",
    "        loss.backward()\n",
    "        optimizer.step()\n",
    "        epoch_loss += loss.item()\n",
    "        epoch_accuracy += accuracy.item()\n",
    "        \n",
    "    training_loss = epoch_loss / len(iterator)\n",
    "    train_accuracy = epoch_accuracy / len(iterator)\n",
    "\n",
    "    return training_loss, train_accuracy"
   ]
  },
  {
   "cell_type": "code",
   "execution_count": 10,
   "id": "deebb4de",
   "metadata": {},
   "outputs": [],
   "source": [
    "def evaluate(model, iterator, criterion):\n",
    "    \n",
    "    epoch_loss = 0\n",
    "    epoch_accuracy = 0\n",
    "\n",
    "    model.eval()\n",
    "  \n",
    "    with torch.no_grad():\n",
    "        for batch in iterator:\n",
    "            predictions = model(batch.text).squeeze(1)\n",
    "            loss = criterion(predictions, batch.label)\n",
    "            accuracy = compute_accuracy(predictions, batch.label) \n",
    "            epoch_loss += loss.item()\n",
    "            epoch_accuracy += accuracy.item()\n",
    "    \n",
    "    train_loss = epoch_loss / len(iterator)\n",
    "    train_accuracy = epoch_accuracy / len(iterator)\n",
    "    \n",
    "    return train_loss, train_accuracy"
   ]
  },
  {
   "cell_type": "code",
   "execution_count": 11,
   "id": "f1e31ef4",
   "metadata": {},
   "outputs": [],
   "source": [
    "def predict_sentiment(model, tokenizer, sentence):\n",
    "    \n",
    "    model.eval()\n",
    "    tokens = tokenizer.tokenize(sentence)\n",
    "    tokens = tokens[:max_size - 2] \n",
    "    indexed = [init_token_id] + tokenizer.convert_tokens_to_ids(tokens) + [eos_token_id]\n",
    "    tensor = torch.LongTensor(indexed).to(device)\n",
    "    tensor = tensor.unsqueeze(0)\n",
    "    prediction = torch.sigmoid(model(tensor))\n",
    "    \n",
    "    return prediction.item()"
   ]
  },
  {
   "cell_type": "code",
   "execution_count": 12,
   "id": "074c1a71",
   "metadata": {},
   "outputs": [
    {
     "name": "stdout",
     "output_type": "stream",
     "text": [
      "Processing epoch: 1\n",
      "Saved new model at epoch: 1\n",
      "Epoch: 1\n",
      "Training Loss: 0.45597\n",
      "Training Accuracy: 78.19546%\n",
      "-----------------------------\n",
      "Processing epoch: 2\n",
      "Saved new model at epoch: 2\n",
      "Epoch: 2\n",
      "Training Loss: 0.32793\n",
      "Training Accuracy: 86.16507%\n",
      "-----------------------------\n",
      "Processing epoch: 3\n",
      "Saved new model at epoch: 3\n",
      "Epoch: 3\n",
      "Training Loss: 0.28957\n",
      "Training Accuracy: 88.12081%\n",
      "-----------------------------\n",
      "Processing epoch: 4\n",
      "Saved new model at epoch: 4\n",
      "Epoch: 4\n",
      "Training Loss: 0.27154\n",
      "Training Accuracy: 88.78923%\n",
      "-----------------------------\n",
      "Processing epoch: 5\n",
      "Saved new model at epoch: 5\n",
      "Epoch: 5\n",
      "Training Loss: 0.25586\n",
      "Training Accuracy: 89.62523%\n",
      "-----------------------------\n",
      "Processing epoch: 6\n",
      "Saved new model at epoch: 6\n",
      "Epoch: 6\n",
      "Training Loss: 0.23776\n",
      "Training Accuracy: 90.26318%\n",
      "-----------------------------\n",
      "Processing epoch: 7\n",
      "Saved new model at epoch: 7\n",
      "Epoch: 7\n",
      "Training Loss: 0.23107\n",
      "Training Accuracy: 90.54121%\n",
      "-----------------------------\n",
      "Processing epoch: 8\n",
      "Saved new model at epoch: 8\n",
      "Epoch: 8\n",
      "Training Loss: 0.21872\n",
      "Training Accuracy: 91.29723%\n",
      "-----------------------------\n"
     ]
    }
   ],
   "source": [
    "optimizer = optim.Adam(model.parameters())\n",
    "criterion = nn.BCEWithLogitsLoss().to(device)\n",
    "model = model.to(device)\n",
    "\n",
    "train_losses_list = []\n",
    "train_accuracy_list = []\n",
    "\n",
    "best_accuracy = 0 \n",
    "\n",
    "epochs = 8\n",
    "\n",
    "# baseline evaluate\n",
    "train_loss, train_accuracy = evaluate(model, valid_iter, criterion)\n",
    "\n",
    "train_losses_list.append(train_loss)    \n",
    "train_accuracy_list.append(train_accuracy)\n",
    "\n",
    "for epoch in range(epochs):\n",
    "    print(\"Processing epoch: \" + str(epoch + 1)) \n",
    "    training_loss, train_accuracy = train(model, train_iter, optimizer, criterion)\n",
    "\n",
    "#     print(\"train_accuracy=\" + str(train_accuracy))\n",
    "#     print(\"best_acc=\" + str(best_acc))\n",
    "    if train_accuracy > best_accuracy: \n",
    "        best_acc = train_accuracy\n",
    "        torch.save(model.state_dict(), \"sentiment_model.pt\")\n",
    "        print(\"Saved new model at epoch: \" + str(epoch+1))\n",
    "        \n",
    "    train_losses_list.append(training_loss)    \n",
    "    train_accuracy_list.append(train_accuracy)\n",
    "        \n",
    "    print(f'Epoch: {epoch + 1}')\n",
    "    print(f'Training Loss: {training_loss:.5f}')\n",
    "    print(f'Training Accuracy: {train_accuracy * 100:.5f}%')        \n",
    "    print('-----------------------------')"
   ]
  },
  {
   "cell_type": "code",
   "execution_count": 13,
   "id": "3cb5fd93",
   "metadata": {},
   "outputs": [
    {
     "name": "stdout",
     "output_type": "stream",
     "text": [
      "Test Loss: 0.22077\n",
      "Test Accuracy: 91.49872%\n"
     ]
    }
   ],
   "source": [
    "# Checking the Testing set loss and accuracy.  Achieveing around 91% accuracy on the test set.\n",
    "model.load_state_dict(torch.load('sentiment_model.pt'))\n",
    "test_loss, test_accuracy = evaluate(model, test_iter, criterion) \n",
    "print(f'Test Loss: {test_loss:.5f}') \n",
    "print(f'Test Accuracy: {test_accuracy*100:.5f}%')"
   ]
  },
  {
   "cell_type": "code",
   "execution_count": 14,
   "id": "76f4a1c7",
   "metadata": {},
   "outputs": [
    {
     "name": "stdout",
     "output_type": "stream",
     "text": [
      "Inference: 0.62\n"
     ]
    }
   ],
   "source": [
    "TEXT = \"I love Text Information Systems\"\n",
    "model.load_state_dict(torch.load('sentiment_model.pt', map_location=device))\n",
    "test = predict_sentiment(model, tokenizer, TEXT)\n",
    "print(f'Inference: {test:.2f}')"
   ]
  },
  {
   "cell_type": "code",
   "execution_count": 15,
   "id": "7854afac",
   "metadata": {},
   "outputs": [
    {
     "name": "stdout",
     "output_type": "stream",
     "text": [
      "Inference: 0.05\n"
     ]
    }
   ],
   "source": [
    "TEXT = \"I hate NLP\"\n",
    "model.load_state_dict(torch.load('sentiment_model.pt', map_location=device))\n",
    "test = predict_sentiment(model, tokenizer, TEXT)\n",
    "print(f'Inference: {test:.2f}')"
   ]
  },
  {
   "cell_type": "code",
   "execution_count": 16,
   "id": "7167d917",
   "metadata": {},
   "outputs": [
    {
     "data": {
      "image/png": "[encoded data removed]",
      "text/plain": [
       "<Figure size 432x288 with 1 Axes>"
      ]
     },
     "metadata": {
      "needs_background": "light"
     },
     "output_type": "display_data"
    }
   ],
   "source": [
    "plt.plot(train_losses_list, label='Training Loss')\n",
    "plt.title('Loss at the end of each epoch')\n",
    "plt.legend();"
   ]
  },
  {
   "cell_type": "code",
   "execution_count": 17,
   "id": "a21c0a76",
   "metadata": {},
   "outputs": [
    {
     "data": {
      "image/png": "[encoded data removed]",
      "text/plain": [
       "<Figure size 432x288 with 1 Axes>"
      ]
     },
     "metadata": {
      "needs_background": "light"
     },
     "output_type": "display_data"
    }
   ],
   "source": [
    "plt.plot(train_accuracy_list, label='Training Accuracy')\n",
    "plt.title('Accuracy at the end of each epoch')\n",
    "plt.legend();"
   ]
  },
  {
   "cell_type": "code",
   "execution_count": 18,
   "id": "843b5bdb",
   "metadata": {},
   "outputs": [],
   "source": [
    "# import sys\n",
    "# !conda install --yes --prefix {sys.prefix} -c pytorch torchtext"
   ]
  }
 ],
 "metadata": {
  "kernelspec": {
   "display_name": "Python 3 (ipykernel)",
   "language": "python",
   "name": "python3"
  },
  "language_info": {
   "codemirror_mode": {
    "name": "ipython",
    "version": 3
   },
   "file_extension": ".py",
   "mimetype": "text/x-python",
   "name": "python",
   "nbconvert_exporter": "python",
   "pygments_lexer": "ipython3",
   "version": "3.9.7"
  }
 },
 "nbformat": 4,
 "nbformat_minor": 5
}
